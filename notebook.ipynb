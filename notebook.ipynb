{
 "cells": [
  {
   "cell_type": "markdown",
   "metadata": {},
   "source": [
    "# 倒立振子のシミュレーションを Julia で行いたい\n",
    "\n",
    "## はじめに\n",
    "\n",
    "### 倒立振子とは\n",
    "\n",
    "台車の上に棒が立っていて，その棒が倒れないようにしつつ台車を動かすという制御問題のことを倒立振子（とうりつしんし，inverted pendulum）といいます．\n",
    "\n",
    "制御や強化学習の界隈の Hello World としてよく親しまれている問題です．倒立振子のシミュレーションを自分で組むと勉強になるとされています．\n",
    "\n",
    "### Julia とは\n",
    "\n",
    "主に科学計算の世界で使われている比較的新しい言語です．Python や Matlab を使ってもいいのですが，今回は Julia を使います．\n",
    "\n",
    "## 倒立振子の運動方程式\n",
    "\n",
    "シミュレーションをするには，運動方程式がわかっている必要があります．\n",
    "\n",
    "運動方程式の導出は物理学の問題であって，制御の問題ではないのでここでは詳しくは述べません．[Excelで学ぶ振動基礎/運動方程式の立て方](https://edu.katzlab.jp/lec/vib7h/files/vib7h_B.pdf)に解析力学を使って導出する方法が解説されているので，そちらを参照してください．\n",
    "\n",
    "ここでは以下のようなパラメータを考えます．\n",
    "\n",
    "* 定数\n",
    "  * 台車の質量 $M$ [kg]\n",
    "  * 振子の質量 $m$ [kg]\n",
    "  * 重力加速度 $g$ [m/s^2]\n",
    "  * 台車から振子の重心までの距離 $l$ [m]\n",
    "\n",
    "* 変数\n",
    "  * 台車の位置 $x$ [m]\n",
    "  * 振子の傾き $θ$ [rad]\n",
    "  * 外力 $f$ [N] (制御入力 $u$ に相当する)\n",
    "\n",
    "摩擦や空気抵抗は考えないものとしています．\n",
    "\n",
    "このとき，結論だけ書いてしまうと，運動方程式は次の通りです．\n",
    "$$\n",
    "(M + m) \\ddot{x} + m l \\ddot{θ} \\cos θ - m l \\dot{θ}^2 \\sin θ = f \\\\\\\\\n",
    "(ml \\cos θ) \\ddot{x} + ml^2 \\ddot{θ} + mgl \\sin θ = 0\n",
    "$$\n",
    "\n",
    "## 状態方程式を求める\n",
    "\n",
    "さらにこれを状態空間モデルとして解釈するために，状態ベクトル $X$ を考えます．状態は $x, \\dot{x}, θ, \\dot{θ}$ の 4 つなので\n",
    "$$\n",
    "X = \\begin{bmatrix} x \\\\ \\dot{x} \\\\ θ \\\\ \\dot{θ} \\end{bmatrix}\n",
    "$$\n",
    "とします．\n",
    "\n",
    "$X$ の微分を $X$ と $f$ で表現する必要があります．これの計算はそれなりに面倒なので，Julia の `Symbolics` パッケージを使用して計算します．"
   ]
  },
  {
   "cell_type": "code",
   "execution_count": 3,
   "metadata": {},
   "outputs": [
    {
     "data": {
      "text/latex": [
       "$$ \\begin{equation}\n",
       " - f + \\left( M + m \\right) \\frac{\\mathrm{d}}{\\mathrm{d}t} \\frac{\\mathrm{d}}{\\mathrm{d}t} x + l m \\cos\\left( \\theta \\right) \\frac{\\mathrm{d}}{\\mathrm{d}t} \\frac{\\mathrm{d}}{\\mathrm{d}t} \\theta - \\left( \\frac{\\mathrm{d}}{\\mathrm{d}t} \\theta \\right)^{2} l m \\sin\\left( \\theta \\right)\n",
       "\\end{equation}\n",
       " $$"
      ],
      "text/plain": [
       "-f + (M + m)*Differential(t)(Differential(t)(x)) + l*m*cos(θ)*Differential(t)(Differential(t)(θ)) - l*m*(Differential(t)(θ)^2)*sin(θ)"
      ]
     },
     "metadata": {},
     "output_type": "display_data"
    },
    {
     "data": {
      "text/latex": [
       "$$ \\begin{equation}\n",
       "g l m \\sin\\left( \\theta \\right) + l^{2} m \\frac{\\mathrm{d}}{\\mathrm{d}t} \\frac{\\mathrm{d}}{\\mathrm{d}t} \\theta + l m \\cos\\left( \\theta \\right) \\frac{\\mathrm{d}}{\\mathrm{d}t} \\frac{\\mathrm{d}}{\\mathrm{d}t} x\n",
       "\\end{equation}\n",
       " $$"
      ],
      "text/plain": [
       "g*l*m*sin(θ) + (l^2)*m*Differential(t)(Differential(t)(θ)) + l*m*cos(θ)*Differential(t)(Differential(t)(x))"
      ]
     },
     "metadata": {},
     "output_type": "display_data"
    }
   ],
   "source": [
    "using Symbolics\n",
    "\n",
    "# 変数を宣言する\n",
    "@variables t f m l M x θ g\n",
    "\n",
    "# 時間 t に対する微分作用素\n",
    "D = Differential(t)\n",
    "\n",
    "# 2回微分\n",
    "DD = D ∘ D\n",
    "\n",
    "# 2つの運動方程式を定義する\n",
    "eq_1 = (M + m) * DD(x) + m * l * DD(θ) * cos(θ) - m * l * (D(θ))^2 * sin(θ) - f\n",
    "eq_2 = m * l * cos(θ) * DD(x) + m * l^2 * DD(θ) + m * g * l * sin(θ)\n",
    "\n",
    "display(eq_1)\n",
    "display(eq_2)\n"
   ]
  },
  {
   "cell_type": "code",
   "execution_count": 4,
   "metadata": {},
   "outputs": [
    {
     "data": {
      "text/latex": [
       "$$ \\begin{equation}\n",
       " - f l m \\cos\\left( \\theta \\right) - M g l m \\sin\\left( \\theta \\right) - l^{2} M m \\frac{\\mathrm{d}}{\\mathrm{d}t} \\frac{\\mathrm{d}}{\\mathrm{d}t} \\theta - m^{2} g l \\sin\\left( \\theta \\right) - m^{2} l^{2} \\frac{\\mathrm{d}}{\\mathrm{d}t} \\frac{\\mathrm{d}}{\\mathrm{d}t} \\theta + \\cos^{2}\\left( \\theta \\right) m^{2} l^{2} \\frac{\\mathrm{d}}{\\mathrm{d}t} \\frac{\\mathrm{d}}{\\mathrm{d}t} \\theta - \\frac{1}{2} \\left( \\frac{\\mathrm{d}}{\\mathrm{d}t} \\theta \\right)^{2} m^{2} l^{2} \\sin\\left( 2 \\theta \\right)\n",
       "\\end{equation}\n",
       " $$"
      ],
      "text/plain": [
       "-f*l*m*cos(θ) - M*g*l*m*sin(θ) - M*(l^2)*m*Differential(t)(Differential(t)(θ)) - g*l*(m^2)*sin(θ) - (l^2)*(m^2)*Differential(t)(Differential(t)(θ)) + (l^2)*(m^2)*(cos(θ)^2)*Differential(t)(Differential(t)(θ)) - (1//2)*(l^2)*(m^2)*sin(2θ)*(Differential(t)(θ)^2)"
      ]
     },
     "metadata": {},
     "output_type": "display_data"
    },
    {
     "data": {
      "text/latex": [
       "$$ \\begin{equation}\n",
       "\\frac{f \\cos\\left( \\theta \\right) + M g \\sin\\left( \\theta \\right) + g m \\sin\\left( \\theta \\right) + \\frac{1}{2} \\left( \\frac{\\mathrm{d}}{\\mathrm{d}t} \\theta \\right)^{2} l m \\sin\\left( 2 \\theta \\right)}{ - M l - l m + \\cos^{2}\\left( \\theta \\right) l m}\n",
       "\\end{equation}\n",
       " $$"
      ],
      "text/plain": [
       "(f*cos(θ) + M*g*sin(θ) + g*m*sin(θ) + (1//2)*l*m*sin(2θ)*(Differential(t)(θ)^2)) / (-M*l - l*m + l*m*(cos(θ)^2))"
      ]
     },
     "metadata": {},
     "output_type": "display_data"
    }
   ],
   "source": [
    "begin\n",
    "    # x の２階微分を消去する\n",
    "    eq_without_DDx = (m * l * cos(θ)) * eq_1 - (M + m) * eq_2 |> z->simplify(z,expand=true)\n",
    "    display(eq_without_DDx)\n",
    "\n",
    "    # θ の２階微分を表示する式を求める\n",
    "    DDθ = Symbolics.solve_for(eq_without_DDx, DD(θ)) |> simplify\n",
    "    display(DDθ)\n",
    "end"
   ]
  },
  {
   "cell_type": "code",
   "execution_count": 5,
   "metadata": {},
   "outputs": [
    {
     "data": {
      "text/latex": [
       "$$ \\begin{equation}\n",
       " - f l + M l \\frac{\\mathrm{d}}{\\mathrm{d}t} \\frac{\\mathrm{d}}{\\mathrm{d}t} x + l m \\frac{\\mathrm{d}}{\\mathrm{d}t} \\frac{\\mathrm{d}}{\\mathrm{d}t} x - \\frac{1}{2} g l m \\sin\\left( 2 \\theta \\right) - \\cos^{2}\\left( \\theta \\right) l m \\frac{\\mathrm{d}}{\\mathrm{d}t} \\frac{\\mathrm{d}}{\\mathrm{d}t} x - \\left( \\frac{\\mathrm{d}}{\\mathrm{d}t} \\theta \\right)^{2} l^{2} m \\sin\\left( \\theta \\right)\n",
       "\\end{equation}\n",
       " $$"
      ],
      "text/plain": [
       "-f*l + M*l*Differential(t)(Differential(t)(x)) + l*m*Differential(t)(Differential(t)(x)) - (1//2)*g*l*m*sin(2θ) - l*m*(cos(θ)^2)*Differential(t)(Differential(t)(x)) - (l^2)*m*(Differential(t)(θ)^2)*sin(θ)"
      ]
     },
     "metadata": {},
     "output_type": "display_data"
    },
    {
     "data": {
      "text/latex": [
       "$$ \\begin{equation}\n",
       "\\frac{f + \\frac{1}{2} g m \\sin\\left( 2 \\theta \\right) + \\left( \\frac{\\mathrm{d}}{\\mathrm{d}t} \\theta \\right)^{2} l m \\sin\\left( \\theta \\right)}{M + m - \\cos^{2}\\left( \\theta \\right) m}\n",
       "\\end{equation}\n",
       " $$"
      ],
      "text/plain": [
       "(f + (1//2)*g*m*sin(2θ) + l*m*(Differential(t)(θ)^2)*sin(θ)) / (M + m - m*(cos(θ)^2))"
      ]
     },
     "metadata": {},
     "output_type": "display_data"
    }
   ],
   "source": [
    "begin\n",
    "    # θ の２階微分を消去する\n",
    "    eq_without_DDθ = l * eq_1 - cos(θ) * eq_2 |> z->simplify(z,expand=true)\n",
    "    display(eq_without_DDθ)\n",
    "\n",
    "    # x の２階微分を表示する式を求める\n",
    "    DDx = Symbolics.solve_for(eq_without_DDθ, DD(x)) |> simplify\n",
    "end"
   ]
  },
  {
   "cell_type": "code",
   "execution_count": 8,
   "metadata": {},
   "outputs": [
    {
     "data": {
      "text/plain": [
       "cartpole"
      ]
     },
     "metadata": {},
     "output_type": "display_data"
    }
   ],
   "source": [
    "# Julia でシミュレーションを行うために，上記の式に基づいて関数を定義する\n",
    "\n",
    "\"\"\"台車と振子の状態\"\"\"\n",
    "struct State\n",
    "    x::Float64 # 台車の位置 [m]\n",
    "    θ::Float64 # 振子の角度 [rad]\n",
    "    v::Float64 # 台車の速度 [m/s]\n",
    "    ω::Float64 # 振子の角速度 [rad/s]\n",
    "end\n",
    "\n",
    "\"\"\"\n",
    "系の状態と制御入力から，次の状態を求めるための関数．\n",
    "`X' = f(X, u)` を満たす．\n",
    "\n",
    "## Arguments\n",
    "* `X::State` : 現在の状態\n",
    "* `u::Float64` : 制御入力\n",
    "\"\"\"\n",
    "function cartpole(X :: State, u :: Float64) :: State\n",
    "    x, θ, v, ω = X.x, X.θ, X.v, X.ω\n",
    "\n",
    "    g = 9.8 # 重力加速度 [m/s^2]\n",
    "    mc = 1.0 # 台車の質量 [kg]\n",
    "    mp = 0.2 # 振子の質量 [kg]\n",
    "    l = 0.5 # 台車から振子の重心までの長さ [m]\n",
    "\n",
    "    x_acc = (u + 0.5 * g * mp * sin(2θ) + mp * l * ω^2 * sin(θ)) / (mc + mp * sin(θ)^2)\n",
    "    θ_acc = - (u * cos(θ) + mc * g * sin(θ) + g * mp * sin(θ) + 0.5 * mp * l * ω^2 * sin(2θ) ) / (l * (mc + mp * sin(θ)^2))\n",
    "\n",
    "    return State(\n",
    "        v,\n",
    "        ω,\n",
    "        xcc,\n",
    "        θ_acc\n",
    "    )\n",
    "end"
   ]
  }
 ],
 "metadata": {
  "kernelspec": {
   "display_name": "Julia 1.10.2",
   "language": "julia",
   "name": "julia-1.10"
  },
  "language_info": {
   "file_extension": ".jl",
   "mimetype": "application/julia",
   "name": "julia",
   "version": "1.10.2"
  }
 },
 "nbformat": 4,
 "nbformat_minor": 2
}
