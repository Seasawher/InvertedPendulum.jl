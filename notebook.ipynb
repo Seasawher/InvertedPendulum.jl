{
 "cells": [
  {
   "cell_type": "markdown",
   "metadata": {},
   "source": [
    "# 倒立振子のシミュレーションを Julia で行いたい\n",
    "\n",
    "## はじめに\n",
    "\n",
    "### 倒立振子とは\n",
    "\n",
    "台車の上に棒が立っていて，その棒が倒れないようにしつつ台車を動かすという制御問題のことを倒立振子（とうりつしんし，inverted pendulum）といいます．\n",
    "\n",
    "制御や強化学習の界隈の Hello World としてよく親しまれている問題です．倒立振子のシミュレーションを自分で組むと勉強になるとされています．\n",
    "\n",
    "### Julia とは\n",
    "\n",
    "主に科学計算の世界で使われている比較的新しい言語です．Python や Matlab を使ってもいいのですが，今回は Julia を使います．\n",
    "\n",
    "## 倒立振子の運動方程式\n",
    "\n",
    "シミュレーションをするには，運動方程式がわかっている必要があります．\n",
    "\n",
    "運動方程式の導出は物理学の問題であって，制御の問題ではないのでここでは詳しくは述べません．[Excelで学ぶ振動基礎/運動方程式の立て方](https://edu.katzlab.jp/lec/vib7h/files/vib7h_B.pdf)に解析力学を使って導出する方法が解説されているので，そちらを参照してください．\n",
    "\n",
    "ここでは以下のようなパラメータを考えます．\n",
    "\n",
    "* 定数\n",
    "  * 台車の質量 $M$ [kg]\n",
    "  * 振子の質量 $m$ [kg]\n",
    "  * 重力加速度 $g$ [m/s^2]\n",
    "  * 台車から振子の重心までの距離 $l$ [m]\n",
    "\n",
    "* 変数\n",
    "  * 台車の位置 $x$ [m]\n",
    "  * 振子の傾き $θ$ [rad]. 垂直に立っている状態がゼロ．\n",
    "  * 外力 $f$ [N] (制御入力 $u$ に相当する)\n",
    "\n",
    "摩擦や空気抵抗は考えないものとしています．\n",
    "\n",
    "このとき，結論だけ書いてしまうと，運動方程式は次の通りです．\n",
    "$$\n",
    "(M + m) \\ddot{x} + m l \\ddot{θ} \\cos θ - m l \\dot{θ}^2 \\sin θ = f \\\\\\\\\n",
    "(ml \\cos θ) \\ddot{x} + ml^2 \\ddot{θ} - mgl \\sin θ = 0\n",
    "$$\n",
    "\n",
    "## 状態方程式を求める\n",
    "\n",
    "さらにこれを状態空間モデルとして解釈するために，状態ベクトル $X$ を考えます．状態は $x, \\dot{x}, θ, \\dot{θ}$ の 4 つなので\n",
    "$$\n",
    "X = \\begin{bmatrix} x \\\\ \\dot{x} \\\\ θ \\\\ \\dot{θ} \\end{bmatrix}\n",
    "$$\n",
    "とします．\n",
    "\n",
    "$X$ の微分を $X$ と $f$ で表現する必要があります．これの計算はそれなりに面倒なので，Julia の `Symbolics` パッケージを使用して計算します．"
   ]
  },
  {
   "cell_type": "code",
   "execution_count": 35,
   "metadata": {},
   "outputs": [
    {
     "data": {
      "text/latex": [
       "$$ \\begin{equation}\n",
       " - f + \\left( M + m \\right) \\frac{\\mathrm{d}}{\\mathrm{d}t} \\frac{\\mathrm{d}}{\\mathrm{d}t} x + l m \\cos\\left( \\theta \\right) \\frac{\\mathrm{d}}{\\mathrm{d}t} \\frac{\\mathrm{d}}{\\mathrm{d}t} \\theta - \\left( \\frac{\\mathrm{d}}{\\mathrm{d}t} \\theta \\right)^{2} l m \\sin\\left( \\theta \\right)\n",
       "\\end{equation}\n",
       " $$"
      ],
      "text/plain": [
       "-f + (M + m)*Differential(t)(Differential(t)(x)) + l*m*cos(θ)*Differential(t)(Differential(t)(θ)) - l*m*(Differential(t)(θ)^2)*sin(θ)"
      ]
     },
     "metadata": {},
     "output_type": "display_data"
    },
    {
     "data": {
      "text/latex": [
       "$$ \\begin{equation}\n",
       " - g l m \\sin\\left( \\theta \\right) + l^{2} m \\frac{\\mathrm{d}}{\\mathrm{d}t} \\frac{\\mathrm{d}}{\\mathrm{d}t} \\theta + l m \\cos\\left( \\theta \\right) \\frac{\\mathrm{d}}{\\mathrm{d}t} \\frac{\\mathrm{d}}{\\mathrm{d}t} x\n",
       "\\end{equation}\n",
       " $$"
      ],
      "text/plain": [
       "-g*l*m*sin(θ) + (l^2)*m*Differential(t)(Differential(t)(θ)) + l*m*cos(θ)*Differential(t)(Differential(t)(x))"
      ]
     },
     "metadata": {},
     "output_type": "display_data"
    }
   ],
   "source": [
    "using Symbolics\n",
    "\n",
    "# 変数を宣言する\n",
    "@variables t f m l M x θ g\n",
    "\n",
    "# 時間 t に対する微分作用素\n",
    "D = Differential(t)\n",
    "\n",
    "# 2回微分\n",
    "DD = D ∘ D\n",
    "\n",
    "# 2つの運動方程式を定義する\n",
    "eq_1 = (M + m) * DD(x) + m * l * cos(θ) * DD(θ) - m * l * (D(θ))^2 * sin(θ) - f\n",
    "eq_2 = m * l * cos(θ) * DD(x) + m * l^2 * DD(θ) - m * g * l * sin(θ)\n",
    "\n",
    "display(eq_1)\n",
    "display(eq_2)\n"
   ]
  },
  {
   "cell_type": "code",
   "execution_count": 36,
   "metadata": {},
   "outputs": [
    {
     "data": {
      "text/latex": [
       "$$ \\begin{equation}\n",
       " - f l m \\cos\\left( \\theta \\right) + M g l m \\sin\\left( \\theta \\right) - l^{2} M m \\frac{\\mathrm{d}}{\\mathrm{d}t} \\frac{\\mathrm{d}}{\\mathrm{d}t} \\theta + m^{2} g l \\sin\\left( \\theta \\right) - m^{2} l^{2} \\frac{\\mathrm{d}}{\\mathrm{d}t} \\frac{\\mathrm{d}}{\\mathrm{d}t} \\theta + \\cos^{2}\\left( \\theta \\right) m^{2} l^{2} \\frac{\\mathrm{d}}{\\mathrm{d}t} \\frac{\\mathrm{d}}{\\mathrm{d}t} \\theta - \\frac{1}{2} \\left( \\frac{\\mathrm{d}}{\\mathrm{d}t} \\theta \\right)^{2} m^{2} l^{2} \\sin\\left( 2 \\theta \\right)\n",
       "\\end{equation}\n",
       " $$"
      ],
      "text/plain": [
       "-f*l*m*cos(θ) + M*g*l*m*sin(θ) - M*(l^2)*m*Differential(t)(Differential(t)(θ)) + g*l*(m^2)*sin(θ) - (l^2)*(m^2)*Differential(t)(Differential(t)(θ)) + (l^2)*(m^2)*(cos(θ)^2)*Differential(t)(Differential(t)(θ)) - (1//2)*(l^2)*(m^2)*sin(2θ)*(Differential(t)(θ)^2)"
      ]
     },
     "metadata": {},
     "output_type": "display_data"
    },
    {
     "data": {
      "text/latex": [
       "$$ \\begin{equation}\n",
       "\\frac{f \\cos\\left( \\theta \\right) - M g \\sin\\left( \\theta \\right) - g m \\sin\\left( \\theta \\right) + \\frac{1}{2} \\left( \\frac{\\mathrm{d}}{\\mathrm{d}t} \\theta \\right)^{2} l m \\sin\\left( 2 \\theta \\right)}{ - M l - l m + \\cos^{2}\\left( \\theta \\right) l m}\n",
       "\\end{equation}\n",
       " $$"
      ],
      "text/plain": [
       "(f*cos(θ) - M*g*sin(θ) - g*m*sin(θ) + (1//2)*l*m*sin(2θ)*(Differential(t)(θ)^2)) / (-M*l - l*m + l*m*(cos(θ)^2))"
      ]
     },
     "metadata": {},
     "output_type": "display_data"
    }
   ],
   "source": [
    "begin\n",
    "    # x の２階微分を消去する\n",
    "    eq_without_DDx = (m * l * cos(θ)) * eq_1 - (M + m) * eq_2 |> z->simplify(z,expand=true)\n",
    "    display(eq_without_DDx)\n",
    "\n",
    "    # θ の２階微分を表示する式を求める\n",
    "    DDθ = Symbolics.solve_for(eq_without_DDx, DD(θ)) |> simplify\n",
    "    display(DDθ)\n",
    "end"
   ]
  },
  {
   "cell_type": "code",
   "execution_count": 37,
   "metadata": {},
   "outputs": [
    {
     "data": {
      "text/latex": [
       "$$ \\begin{equation}\n",
       " - f l + M l \\frac{\\mathrm{d}}{\\mathrm{d}t} \\frac{\\mathrm{d}}{\\mathrm{d}t} x + l m \\frac{\\mathrm{d}}{\\mathrm{d}t} \\frac{\\mathrm{d}}{\\mathrm{d}t} x + \\frac{1}{2} g l m \\sin\\left( 2 \\theta \\right) - \\cos^{2}\\left( \\theta \\right) l m \\frac{\\mathrm{d}}{\\mathrm{d}t} \\frac{\\mathrm{d}}{\\mathrm{d}t} x - \\left( \\frac{\\mathrm{d}}{\\mathrm{d}t} \\theta \\right)^{2} l^{2} m \\sin\\left( \\theta \\right)\n",
       "\\end{equation}\n",
       " $$"
      ],
      "text/plain": [
       "-f*l + M*l*Differential(t)(Differential(t)(x)) + l*m*Differential(t)(Differential(t)(x)) + (1//2)*g*l*m*sin(2θ) - l*m*(cos(θ)^2)*Differential(t)(Differential(t)(x)) - (l^2)*m*(Differential(t)(θ)^2)*sin(θ)"
      ]
     },
     "metadata": {},
     "output_type": "display_data"
    },
    {
     "data": {
      "text/latex": [
       "$$ \\begin{equation}\n",
       "\\frac{f - \\frac{1}{2} g m \\sin\\left( 2 \\theta \\right) + \\left( \\frac{\\mathrm{d}}{\\mathrm{d}t} \\theta \\right)^{2} l m \\sin\\left( \\theta \\right)}{M + m - \\cos^{2}\\left( \\theta \\right) m}\n",
       "\\end{equation}\n",
       " $$"
      ],
      "text/plain": [
       "(f - (1//2)*g*m*sin(2θ) + l*m*(Differential(t)(θ)^2)*sin(θ)) / (M + m - m*(cos(θ)^2))"
      ]
     },
     "metadata": {},
     "output_type": "display_data"
    }
   ],
   "source": [
    "begin\n",
    "    # θ の２階微分を消去する\n",
    "    eq_without_DDθ = l * eq_1 - cos(θ) * eq_2 |> z->simplify(z,expand=true)\n",
    "    display(eq_without_DDθ)\n",
    "\n",
    "    # x の２階微分を表示する式を求める\n",
    "    DDx = Symbolics.solve_for(eq_without_DDθ, DD(x)) |> simplify\n",
    "end"
   ]
  },
  {
   "cell_type": "markdown",
   "metadata": {},
   "source": [
    "## Julia でシミュレーションを行う\n",
    "\n",
    "Julia でシミュレーションを行うために，\n",
    "\n",
    "* 各時刻において状態と制御入力から状態の微分を求める関数\n",
    "* ある時刻における状態と制御入力から， ある微小な時間 `dt` だけ経過したときの状態を求める関数\n",
    "\n",
    "が必要です．"
   ]
  },
  {
   "cell_type": "code",
   "execution_count": 48,
   "metadata": {},
   "outputs": [
    {
     "data": {
      "text/plain": [
       "cartpole"
      ]
     },
     "metadata": {},
     "output_type": "display_data"
    }
   ],
   "source": [
    "\"\"\"台車と振子の状態\"\"\"\n",
    "struct State\n",
    "    x::Float64 # 台車の位置 [m]\n",
    "    θ::Float64 # 振子の角度 [rad]\n",
    "    v::Float64 # 台車の速度 [m/s]\n",
    "    ω::Float64 # 振子の角速度 [rad/s]\n",
    "end\n",
    "\n",
    "\"\"\"状態の微分\"\"\"\n",
    "struct StateDeriv\n",
    "    v::Float64\n",
    "    ω::Float64\n",
    "    x_acc::Float64 # 台車の加速度 [m/s^2]\n",
    "    θ_acc::Float64 # 振子の角加速度 [rad/s^2]\n",
    "end\n",
    "\n",
    "\"\"\"\n",
    "系の状態と制御入力から，状態の微分を計算する関数．\n",
    "`X' = f(X, u)` を満たす．\n",
    "\n",
    "## Arguments\n",
    "* `X::State` : 現在の状態\n",
    "* `u::Float64` : 制御入力\n",
    "\"\"\"\n",
    "function cartpole(X :: State, u :: Float64) :: StateDeriv\n",
    "    x, θ, v, ω = X.x, X.θ, X.v, X.ω\n",
    "\n",
    "    g = 9.8 # 重力加速度 [m/s^2]\n",
    "    mc = 1.0 # 台車の質量 [kg]\n",
    "    mp = 0.2 # 振子の質量 [kg]\n",
    "    l = 0.5 # 台車から振子の重心までの長さ [m]\n",
    "\n",
    "    x_acc = (u - 0.5 * g * mp * sin(2 * θ) + mp * l * ω^2 * sin(θ)) / (mc + mp * sin(θ)^2)\n",
    "    θ_acc = (u * cos(θ) - mc * g * sin(θ) - g * mp * sin(θ) + 0.5 * mp * l * ω^2 * sin(2 * θ) ) / (-l * (mc + mp * sin(θ)^2))\n",
    "\n",
    "    return StateDeriv(v, ω, x_acc, θ_acc)\n",
    "end"
   ]
  },
  {
   "cell_type": "markdown",
   "metadata": {},
   "source": [
    "シミュレーションの実行方法ですが，常微分方程式 `X' = f(X, u)` を何らかの方法で解いて，その結果をプロットする必要があります．厳密に解くのは難しいため，近似的に解きます．ここでは[Euler法](https://ja.wikipedia.org/wiki/%E3%82%AA%E3%82%A4%E3%83%A9%E3%83%BC%E6%B3%95)を使用します．"
   ]
  },
  {
   "cell_type": "code",
   "execution_count": 52,
   "metadata": {},
   "outputs": [
    {
     "name": "stdout",
     "output_type": "stream",
     "text": [
      "Simulation terminated: θ exceeded π/2\n"
     ]
    },
    {
     "name": "stderr",
     "output_type": "stream",
     "text": [
      "┌ Info: Saved animation to /home/aseiinoue/julia-inverted-pendulum/image/cartpole_simulation.gif\n",
      "└ @ Plots /home/aseiinoue/.julia/packages/Plots/a3u1v/src/animation.jl:156\n"
     ]
    },
    {
     "data": {
      "text/html": [
       "<img src=\"data:image/gif;base64,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\" />"
      ],
      "text/plain": [
       "Plots.AnimatedGif(\"/home/aseiinoue/julia-inverted-pendulum/image/cartpole_simulation.gif\")"
      ]
     },
     "metadata": {},
     "output_type": "display_data"
    }
   ],
   "source": [
    "\"\"\"\n",
    "Euler法を使用して微分方程式を数値的に解く関数．\n",
    "\n",
    "## Arguments\n",
    "* `f` : 状態の微分を計算する関数\n",
    "* `X0` : 初期状態\n",
    "* `u_func` : 各時刻に対して制御入力を返す関数\n",
    "* `dt` : タイムステップ\n",
    "* `T` : シミュレーションの時間\n",
    "\n",
    "## Returns\n",
    "* `X` : シミュレーション中の状態の配列\n",
    "\"\"\"\n",
    "function simulate_euler(f::Function, X0::State, u_func::Function, dt::Float64, T::Float64) :: Vector{State}\n",
    "    num_steps = Int(T / dt) # タイムステップの数\n",
    "    X = [X0] # 状態の配列を初期化\n",
    "    current_X = X0 # 現在の状態を初期状態に設定\n",
    "    t = 0.0 # 時刻を初期化\n",
    "\n",
    "    for i in 1:num_steps\n",
    "        u = u_func(t) # 制御入力を計算\n",
    "\n",
    "        # Euler法に基づいて次の状態を計算\n",
    "        next_X = State(\n",
    "            current_X.x + current_X.v * dt,\n",
    "            current_X.θ + current_X.ω * dt,\n",
    "            current_X.v + f(current_X, u).x_acc * dt,\n",
    "            current_X.ω + f(current_X, u).θ_acc * dt\n",
    "        )\n",
    "\n",
    "        # 振子が倒れていたらシミュレーションを終了する\n",
    "        if abs(next_X.θ) >= π/2\n",
    "            println(\"Simulation terminated: θ exceeded π/2\")\n",
    "            break\n",
    "        end\n",
    "        append!(X, [next_X]) # 次の状態を配列に追加\n",
    "        current_X = next_X # 現在の状態を更新\n",
    "        t += dt # 時刻を更新\n",
    "    end\n",
    "\n",
    "    return X\n",
    "end\n",
    "\n",
    "# 初期状態\n",
    "const X0 = State(0.0, 0.1, 0.0, 0.0)\n",
    "\n",
    "# タイムステップとシミュレーション時間\n",
    "const dt = 0.01\n",
    "const T = 10.0\n",
    "\n",
    "# 制御入力を定義\n",
    "function control_input(t)\n",
    "    return 1.3\n",
    "end\n",
    "\n",
    "# Euler法でシミュレーションを実行\n",
    "simulated_states = simulate_euler(cartpole, X0, control_input, dt, T)\n",
    "\n",
    "# シミュレーション結果のプロットに必要なパッケージを宣言\n",
    "using Plots\n",
    "\n",
    "# アニメーションとしてプロット\n",
    "anim = @animate for state in simulated_states\n",
    "    plot([state.x], [state.θ], seriestype=:scatter, legend=false, xlim=(-2, 2), ylim=(-π/2, π/2), xlabel=\"Position (m)\", ylabel=\"Angle (rad)\")\n",
    "    scatter!([state.x], [state.θ], markersize=5, color=:red)\n",
    "end\n",
    "\n",
    "# アニメーションを表示\n",
    "gif(anim, \"image/cartpole_simulation.gif\", fps = 30)\n"
   ]
  }
 ],
 "metadata": {
  "kernelspec": {
   "display_name": "Julia 1.10.2",
   "language": "julia",
   "name": "julia-1.10"
  },
  "language_info": {
   "file_extension": ".jl",
   "mimetype": "application/julia",
   "name": "julia",
   "version": "1.10.2"
  }
 },
 "nbformat": 4,
 "nbformat_minor": 2
}
