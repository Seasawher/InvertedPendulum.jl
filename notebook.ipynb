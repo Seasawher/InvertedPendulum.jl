{
 "cells": [
  {
   "cell_type": "markdown",
   "metadata": {},
   "source": [
    "# 倒立振子のシミュレーションを Julia で行いたい\n",
    "\n",
    "## はじめに\n",
    "\n",
    "### 倒立振子とは\n",
    "\n",
    "台車の上に棒が立っていて，その棒が倒れないようにしつつ台車を動かすという制御問題のことを倒立振子（とうりつしんし，inverted pendulum）といいます．\n",
    "\n",
    "制御や強化学習の界隈の Hello World としてよく親しまれている問題です．倒立振子のシミュレーションを自分で組むと勉強になるとされています．\n",
    "\n",
    "### Julia とは\n",
    "\n",
    "主に科学計算の世界で使われている比較的新しい言語です．Python や Matlab を使ってもいいのですが，今回は Julia を使います．\n",
    "\n",
    "## 倒立振子の運動方程式\n",
    "\n",
    "シミュレーションをするには，運動方程式がわかっている必要があります．\n",
    "\n",
    "運動方程式の導出は物理学の問題であって，制御の問題ではないのでここでは詳しくは述べません．[Excelで学ぶ振動基礎/運動方程式の立て方](https://edu.katzlab.jp/lec/vib7h/files/vib7h_B.pdf)に解析力学を使って導出する方法が解説されているので，そちらを参照してください．\n",
    "\n",
    "ここでは以下のようなパラメータを考えます．\n",
    "\n",
    "* 定数\n",
    "  * 台車の質量 $M$ [kg]\n",
    "  * 振子の質量 $m$ [kg]\n",
    "  * 重力加速度 $g$ [m/s^2]\n",
    "  * 台車から振子の重心までの距離 $l$ [m]\n",
    "\n",
    "* 変数\n",
    "  * 台車の位置 $x$ [m]\n",
    "  * 振子の傾き $θ$ [rad]\n",
    "  * 外力 $f$ [N]\n",
    "\n",
    "摩擦や空気抵抗は考えないものとしています．\n",
    "\n",
    "このとき，結論だけ書いてしまうと，運動方程式は次の通りです．\n",
    "$$\n",
    "(M + m) \\ddot{x} + m l \\ddot{θ} \\cos θ - m l \\dot{θ}^2 \\sin θ = f \\\\\\\\\n",
    "(ml \\cos θ) \\ddot{x} + ml^2 \\ddot{θ} + mgl \\sin θ = 0\n",
    "$$\n",
    "\n",
    "## 線形化する\n",
    "\n",
    "非線形なままだと扱いづらくて困るので，似ている線形システムに置き換えてしまいます．ここでは $θ$ が小さいと仮定して線形化します．これは，振子の傾きがそんなに大きくないということを意味します．このとき，$\\sin θ ≈ θ, \\cos θ ≈ 1$ と近似できるので，運動方程式は次のようになります．\n",
    "\n",
    "<!-- ## 状態方程式を求める\n",
    "\n",
    "さらにこれを状態空間モデルとして解釈するために，状態ベクトル $X$ を考えます．状態は $x, \\dot{x}, θ, \\dot{θ}$ の 4 つなので\n",
    "$$\n",
    "X = \\begin{bmatrix} x \\\\ \\dot{x} \\\\ θ \\\\ \\dot{θ} \\end{bmatrix}\n",
    "$$\n",
    "とします． -->"
   ]
  },
  {
   "cell_type": "code",
   "execution_count": 5,
   "metadata": {},
   "outputs": [
    {
     "name": "stdout",
     "output_type": "stream",
     "text": [
      "Hello World!"
     ]
    }
   ],
   "source": [
    "print(\"Hello World!\")"
   ]
  }
 ],
 "metadata": {
  "kernelspec": {
   "display_name": "Julia 1.10.2",
   "language": "julia",
   "name": "julia-1.10"
  },
  "language_info": {
   "file_extension": ".jl",
   "mimetype": "application/julia",
   "name": "julia",
   "version": "1.10.2"
  }
 },
 "nbformat": 4,
 "nbformat_minor": 2
}
